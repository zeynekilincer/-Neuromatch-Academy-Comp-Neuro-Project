{
  "nbformat": 4,
  "nbformat_minor": 0,
  "metadata": {
    "colab": {
      "name": "DEAP_project.ipynb",
      "provenance": [],
      "collapsed_sections": []
    },
    "kernelspec": {
      "name": "python3",
      "display_name": "Python 3"
    },
    "language_info": {
      "name": "python"
    }
  },
  "cells": [
    {
      "cell_type": "markdown",
      "source": [
        "**Project name: Decoding The Subjective Ratings of Valence From EEG Activation Evoked by Emotional Visual Stimuli**\n",
        "\n",
        "**Dataset: [DEAP dataset](https://www.eecs.qmul.ac.uk/mmv/datasets/deap/)**"
      ],
      "metadata": {
        "id": "wW_X7XYfDhLq"
      }
    },
    {
      "cell_type": "markdown",
      "source": [
        "-------------"
      ],
      "metadata": {
        "id": "pR2P31xLE1zz"
      }
    },
    {
      "cell_type": "markdown",
      "source": [
        "**Import libraries, packages, etc.**"
      ],
      "metadata": {
        "id": "EE3rXUsGA31x"
      }
    },
    {
      "cell_type": "code",
      "source": [
        "import matplotlib.pyplot as plt \n",
        "import pandas as pd\n",
        "import numpy as np\n",
        "import pickle\n",
        "import os\n",
        "import h5py\n",
        "import tensorflow as tf\n",
        "from tensorflow.keras import datasets, layers, models\n",
        "!pip install mne"
      ],
      "metadata": {
        "id": "MnFdMl-XU8xk",
        "colab": {
          "base_uri": "https://localhost:8080/"
        },
        "outputId": "276f44b6-d25b-4c32-836a-5745a236e294"
      },
      "execution_count": 5,
      "outputs": [
        {
          "output_type": "stream",
          "name": "stdout",
          "text": [
            "Looking in indexes: https://pypi.org/simple, https://us-python.pkg.dev/colab-wheels/public/simple/\n",
            "Collecting mne\n",
            "  Downloading mne-1.0.3-py3-none-any.whl (7.5 MB)\n",
            "\u001b[K     |████████████████████████████████| 7.5 MB 17.4 MB/s \n",
            "\u001b[?25hRequirement already satisfied: jinja2 in /usr/local/lib/python3.7/dist-packages (from mne) (2.11.3)\n",
            "Requirement already satisfied: numpy>=1.15.4 in /usr/local/lib/python3.7/dist-packages (from mne) (1.21.6)\n",
            "Requirement already satisfied: pooch>=1.5 in /usr/local/lib/python3.7/dist-packages (from mne) (1.6.0)\n",
            "Requirement already satisfied: tqdm in /usr/local/lib/python3.7/dist-packages (from mne) (4.64.0)\n",
            "Requirement already satisfied: matplotlib in /usr/local/lib/python3.7/dist-packages (from mne) (3.2.2)\n",
            "Requirement already satisfied: decorator in /usr/local/lib/python3.7/dist-packages (from mne) (4.4.2)\n",
            "Requirement already satisfied: packaging in /usr/local/lib/python3.7/dist-packages (from mne) (21.3)\n",
            "Requirement already satisfied: scipy>=1.1.0 in /usr/local/lib/python3.7/dist-packages (from mne) (1.7.3)\n",
            "Requirement already satisfied: appdirs>=1.3.0 in /usr/local/lib/python3.7/dist-packages (from pooch>=1.5->mne) (1.4.4)\n",
            "Requirement already satisfied: requests>=2.19.0 in /usr/local/lib/python3.7/dist-packages (from pooch>=1.5->mne) (2.23.0)\n",
            "Requirement already satisfied: pyparsing!=3.0.5,>=2.0.2 in /usr/local/lib/python3.7/dist-packages (from packaging->mne) (3.0.9)\n",
            "Requirement already satisfied: chardet<4,>=3.0.2 in /usr/local/lib/python3.7/dist-packages (from requests>=2.19.0->pooch>=1.5->mne) (3.0.4)\n",
            "Requirement already satisfied: idna<3,>=2.5 in /usr/local/lib/python3.7/dist-packages (from requests>=2.19.0->pooch>=1.5->mne) (2.10)\n",
            "Requirement already satisfied: urllib3!=1.25.0,!=1.25.1,<1.26,>=1.21.1 in /usr/local/lib/python3.7/dist-packages (from requests>=2.19.0->pooch>=1.5->mne) (1.24.3)\n",
            "Requirement already satisfied: certifi>=2017.4.17 in /usr/local/lib/python3.7/dist-packages (from requests>=2.19.0->pooch>=1.5->mne) (2022.6.15)\n",
            "Requirement already satisfied: MarkupSafe>=0.23 in /usr/local/lib/python3.7/dist-packages (from jinja2->mne) (2.0.1)\n",
            "Requirement already satisfied: cycler>=0.10 in /usr/local/lib/python3.7/dist-packages (from matplotlib->mne) (0.11.0)\n",
            "Requirement already satisfied: kiwisolver>=1.0.1 in /usr/local/lib/python3.7/dist-packages (from matplotlib->mne) (1.4.4)\n",
            "Requirement already satisfied: python-dateutil>=2.1 in /usr/local/lib/python3.7/dist-packages (from matplotlib->mne) (2.8.2)\n",
            "Requirement already satisfied: typing-extensions in /usr/local/lib/python3.7/dist-packages (from kiwisolver>=1.0.1->matplotlib->mne) (4.1.1)\n",
            "Requirement already satisfied: six>=1.5 in /usr/local/lib/python3.7/dist-packages (from python-dateutil>=2.1->matplotlib->mne) (1.15.0)\n",
            "Installing collected packages: mne\n",
            "Successfully installed mne-1.0.3\n"
          ]
        }
      ]
    },
    {
      "cell_type": "markdown",
      "source": [
        "# **Mounting the data**\n",
        "\n",
        "\n"
      ],
      "metadata": {
        "id": "VzktZKEXEXRx"
      }
    },
    {
      "cell_type": "markdown",
      "source": [
        "**Mount the data from Pelin's Google Drive**"
      ],
      "metadata": {
        "id": "xWMo1JEsYB5-"
      }
    },
    {
      "cell_type": "code",
      "source": [
        "from google.colab import drive\n",
        "drive.mount('/content/drive')\n",
        "# drive.mount(\"/content/drive\", force_remount=True)\n",
        "%cd /content/drive/MyDrive/Education/Course & Content/Neuromatch Academy - Computational Neuroscience/DEAP Project\n",
        "!ls"
      ],
      "metadata": {
        "id": "DX1k6-hNQ3dZ",
        "colab": {
          "base_uri": "https://localhost:8080/"
        },
        "outputId": "0812329c-8695-492f-ecad-8176960afea1"
      },
      "execution_count": 6,
      "outputs": [
        {
          "output_type": "stream",
          "name": "stdout",
          "text": [
            "Mounted at /content/drive\n",
            "/content/drive/MyDrive/Education/Course & Content/Neuromatch Academy - Computational Neuroscience/DEAP Project\n",
            "deap_data_all.mat\t    s01.dat  s08.dat  s15.dat  s22.dat\ts29.dat\n",
            "DEAP_project.ipynb\t    s02.dat  s09.dat  s16.dat  s23.dat\ts30.dat\n",
            "metadata_csv\t\t    s03.dat  s10.dat  s17.dat  s24.dat\ts31.dat\n",
            "metadata_xls\t\t    s04.dat  s11.dat  s18.dat  s25.dat\ts32.dat\n",
            "NMA-Project-Slides.gslides  s05.dat  s12.dat  s19.dat  s26.dat\n",
            "project-abstract.pdf\t    s06.dat  s13.dat  s20.dat  s27.dat\n",
            "Results\t\t\t    s07.dat  s14.dat  s21.dat  s28.dat\n"
          ]
        }
      ]
    },
    {
      "cell_type": "markdown",
      "source": [
        "**OYKU's Drive**"
      ],
      "metadata": {
        "id": "zV38KLhZD7gr"
      }
    },
    {
      "cell_type": "code",
      "source": [
        "from google.colab import drive\n",
        "drive.mount('/content/drive')\n",
        "# drive.mount(\"/content/drive\", force_remount=True)\n",
        "%cd /content/drive/MyDrive/DEAP Project\n",
        "!ls"
      ],
      "metadata": {
        "id": "vVIitZbhEBlH",
        "colab": {
          "base_uri": "https://localhost:8080/"
        },
        "outputId": "88509f9f-24ec-4439-822b-5835eec523fb"
      },
      "execution_count": null,
      "outputs": [
        {
          "output_type": "stream",
          "name": "stdout",
          "text": [
            "Mounted at /content/drive\n",
            "/content/drive/.shortcut-targets-by-id/1S0VoYLABvBxVrdOqso5P6VJtvk1Iat5n/DEAP Project\n",
            "deap_data_all.mat   s03.dat  s09.dat  s15.dat  s21.dat\ts27.dat\n",
            "DEAP_project.ipynb  s04.dat  s10.dat  s16.dat  s22.dat\ts28.dat\n",
            "metadata_csv\t    s05.dat  s11.dat  s17.dat  s23.dat\ts29.dat\n",
            "metadata_xls\t    s06.dat  s12.dat  s18.dat  s24.dat\ts30.dat\n",
            "s01.dat\t\t    s07.dat  s13.dat  s19.dat  s25.dat\ts31.dat\n",
            "s02.dat\t\t    s08.dat  s14.dat  s20.dat  s26.dat\ts32.dat\n"
          ]
        }
      ]
    },
    {
      "cell_type": "markdown",
      "source": [
        "**YAGMUR's Drive**"
      ],
      "metadata": {
        "id": "TPyxMwBOEB_-"
      }
    },
    {
      "cell_type": "code",
      "source": [
        "from google.colab import drive\n",
        "drive.mount('/content/drive')\n",
        "# drive.mount(\"/content/drive\", force_remount=True)\n",
        "%cd /content/drive/MyDrive/Education/Course & Content/Neuromatch Academy - Computational Neuroscience/DEAP Project\n",
        "!ls"
      ],
      "metadata": {
        "id": "x6_Xs6BWEE4Q",
        "colab": {
          "base_uri": "https://localhost:8080/"
        },
        "outputId": "4b0460f0-80f8-4637-ce9a-a978446723c4"
      },
      "execution_count": null,
      "outputs": [
        {
          "output_type": "stream",
          "name": "stdout",
          "text": [
            "Drive already mounted at /content/drive; to attempt to forcibly remount, call drive.mount(\"/content/drive\", force_remount=True).\n",
            "[Errno 2] No such file or directory: '/content/drive/MyDrive/Education/Course & Content/Neuromatch Academy - Computational Neuroscience/DEAP Project'\n",
            "/content/drive/MyDrive/DEAP_Dataset\n",
            "drive-download-20220715T133943Z-001  participant_ratings.csv\n",
            "online_ratings.csv\t\t     participant_ratings.xls\n",
            "online_ratings.xls\t\t     video_list.csv\n",
            "participant_questionnaire.csv\t     video_list.xls\n",
            "participant_questionnaire.xls\n"
          ]
        }
      ]
    },
    {
      "cell_type": "markdown",
      "source": [
        "**ZEYNEP's Drive**"
      ],
      "metadata": {
        "id": "Lf9ZuM4TEFEs"
      }
    },
    {
      "cell_type": "code",
      "source": [
        "from google.colab import drive\n",
        "drive.mount('/content/drive')\n",
        "# drive.mount(\"/content/drive\", force_remount=True)\n",
        "%cd /content/drive/MyDrive/DEAP_Dataset"
      ],
      "metadata": {
        "id": "_GqtnqSKEICx",
        "colab": {
          "base_uri": "https://localhost:8080/"
        },
        "outputId": "f24dfa68-3523-40af-b54b-14f905ebbc47"
      },
      "execution_count": null,
      "outputs": [
        {
          "output_type": "stream",
          "name": "stdout",
          "text": [
            "Mounted at /content/drive\n",
            "/content/drive/MyDrive/DEAP_Dataset\n"
          ]
        }
      ]
    },
    {
      "cell_type": "markdown",
      "source": [
        "# **MAIN**"
      ],
      "metadata": {
        "id": "m6I1wdRMMbC9"
      }
    },
    {
      "cell_type": "markdown",
      "source": [
        "## **Explore the data**"
      ],
      "metadata": {
        "id": "fQx48Fk1CVC_"
      }
    },
    {
      "cell_type": "markdown",
      "source": [
        "**Check if everything works fine**"
      ],
      "metadata": {
        "id": "pdLPOxDgBLYy"
      }
    },
    {
      "cell_type": "code",
      "source": [
        "df = pd.read_csv('metadata_csv/participant_ratings.csv')\n",
        "df"
      ],
      "metadata": {
        "id": "OtDaUhBuW_QI",
        "colab": {
          "base_uri": "https://localhost:8080/",
          "height": 424
        },
        "outputId": "d70c2255-cfc8-428c-e362-71977333a003"
      },
      "execution_count": 7,
      "outputs": [
        {
          "output_type": "execute_result",
          "data": {
            "text/plain": [
              "      Participant_id  Trial  Experiment_id  Start_time  Valence  Arousal  \\\n",
              "0                  1      1              5     1695918     6.96     3.92   \n",
              "1                  1      2             18     2714905     7.23     7.15   \n",
              "2                  1      3              4     3586768     4.94     6.01   \n",
              "3                  1      4             24     4493800     7.04     7.09   \n",
              "4                  1      5             20     5362005     8.26     7.91   \n",
              "...              ...    ...            ...         ...      ...      ...   \n",
              "1275              32     36              1    30916115     8.13     4.83   \n",
              "1276              32     37             18    31703107     8.03     7.06   \n",
              "1277              32     38              3    32482079     8.05     7.09   \n",
              "1278              32     39             25    33248922     4.01     7.17   \n",
              "1279              32     40             10    34020155     4.08     5.95   \n",
              "\n",
              "      Dominance  Liking  Familiarity  \n",
              "0          7.19    6.05          4.0  \n",
              "1          6.94    8.01          4.0  \n",
              "2          6.12    8.06          4.0  \n",
              "3          8.01    8.22          4.0  \n",
              "4          7.19    8.13          1.0  \n",
              "...         ...     ...          ...  \n",
              "1275       9.00    4.87          2.0  \n",
              "1276       8.96    8.18          5.0  \n",
              "1277       8.86    7.08          5.0  \n",
              "1278       8.01    6.94          2.0  \n",
              "1279       8.82    3.90          5.0  \n",
              "\n",
              "[1280 rows x 9 columns]"
            ],
            "text/html": [
              "\n",
              "  <div id=\"df-358f61c0-2717-4a6f-a32f-012f77faa1b6\">\n",
              "    <div class=\"colab-df-container\">\n",
              "      <div>\n",
              "<style scoped>\n",
              "    .dataframe tbody tr th:only-of-type {\n",
              "        vertical-align: middle;\n",
              "    }\n",
              "\n",
              "    .dataframe tbody tr th {\n",
              "        vertical-align: top;\n",
              "    }\n",
              "\n",
              "    .dataframe thead th {\n",
              "        text-align: right;\n",
              "    }\n",
              "</style>\n",
              "<table border=\"1\" class=\"dataframe\">\n",
              "  <thead>\n",
              "    <tr style=\"text-align: right;\">\n",
              "      <th></th>\n",
              "      <th>Participant_id</th>\n",
              "      <th>Trial</th>\n",
              "      <th>Experiment_id</th>\n",
              "      <th>Start_time</th>\n",
              "      <th>Valence</th>\n",
              "      <th>Arousal</th>\n",
              "      <th>Dominance</th>\n",
              "      <th>Liking</th>\n",
              "      <th>Familiarity</th>\n",
              "    </tr>\n",
              "  </thead>\n",
              "  <tbody>\n",
              "    <tr>\n",
              "      <th>0</th>\n",
              "      <td>1</td>\n",
              "      <td>1</td>\n",
              "      <td>5</td>\n",
              "      <td>1695918</td>\n",
              "      <td>6.96</td>\n",
              "      <td>3.92</td>\n",
              "      <td>7.19</td>\n",
              "      <td>6.05</td>\n",
              "      <td>4.0</td>\n",
              "    </tr>\n",
              "    <tr>\n",
              "      <th>1</th>\n",
              "      <td>1</td>\n",
              "      <td>2</td>\n",
              "      <td>18</td>\n",
              "      <td>2714905</td>\n",
              "      <td>7.23</td>\n",
              "      <td>7.15</td>\n",
              "      <td>6.94</td>\n",
              "      <td>8.01</td>\n",
              "      <td>4.0</td>\n",
              "    </tr>\n",
              "    <tr>\n",
              "      <th>2</th>\n",
              "      <td>1</td>\n",
              "      <td>3</td>\n",
              "      <td>4</td>\n",
              "      <td>3586768</td>\n",
              "      <td>4.94</td>\n",
              "      <td>6.01</td>\n",
              "      <td>6.12</td>\n",
              "      <td>8.06</td>\n",
              "      <td>4.0</td>\n",
              "    </tr>\n",
              "    <tr>\n",
              "      <th>3</th>\n",
              "      <td>1</td>\n",
              "      <td>4</td>\n",
              "      <td>24</td>\n",
              "      <td>4493800</td>\n",
              "      <td>7.04</td>\n",
              "      <td>7.09</td>\n",
              "      <td>8.01</td>\n",
              "      <td>8.22</td>\n",
              "      <td>4.0</td>\n",
              "    </tr>\n",
              "    <tr>\n",
              "      <th>4</th>\n",
              "      <td>1</td>\n",
              "      <td>5</td>\n",
              "      <td>20</td>\n",
              "      <td>5362005</td>\n",
              "      <td>8.26</td>\n",
              "      <td>7.91</td>\n",
              "      <td>7.19</td>\n",
              "      <td>8.13</td>\n",
              "      <td>1.0</td>\n",
              "    </tr>\n",
              "    <tr>\n",
              "      <th>...</th>\n",
              "      <td>...</td>\n",
              "      <td>...</td>\n",
              "      <td>...</td>\n",
              "      <td>...</td>\n",
              "      <td>...</td>\n",
              "      <td>...</td>\n",
              "      <td>...</td>\n",
              "      <td>...</td>\n",
              "      <td>...</td>\n",
              "    </tr>\n",
              "    <tr>\n",
              "      <th>1275</th>\n",
              "      <td>32</td>\n",
              "      <td>36</td>\n",
              "      <td>1</td>\n",
              "      <td>30916115</td>\n",
              "      <td>8.13</td>\n",
              "      <td>4.83</td>\n",
              "      <td>9.00</td>\n",
              "      <td>4.87</td>\n",
              "      <td>2.0</td>\n",
              "    </tr>\n",
              "    <tr>\n",
              "      <th>1276</th>\n",
              "      <td>32</td>\n",
              "      <td>37</td>\n",
              "      <td>18</td>\n",
              "      <td>31703107</td>\n",
              "      <td>8.03</td>\n",
              "      <td>7.06</td>\n",
              "      <td>8.96</td>\n",
              "      <td>8.18</td>\n",
              "      <td>5.0</td>\n",
              "    </tr>\n",
              "    <tr>\n",
              "      <th>1277</th>\n",
              "      <td>32</td>\n",
              "      <td>38</td>\n",
              "      <td>3</td>\n",
              "      <td>32482079</td>\n",
              "      <td>8.05</td>\n",
              "      <td>7.09</td>\n",
              "      <td>8.86</td>\n",
              "      <td>7.08</td>\n",
              "      <td>5.0</td>\n",
              "    </tr>\n",
              "    <tr>\n",
              "      <th>1278</th>\n",
              "      <td>32</td>\n",
              "      <td>39</td>\n",
              "      <td>25</td>\n",
              "      <td>33248922</td>\n",
              "      <td>4.01</td>\n",
              "      <td>7.17</td>\n",
              "      <td>8.01</td>\n",
              "      <td>6.94</td>\n",
              "      <td>2.0</td>\n",
              "    </tr>\n",
              "    <tr>\n",
              "      <th>1279</th>\n",
              "      <td>32</td>\n",
              "      <td>40</td>\n",
              "      <td>10</td>\n",
              "      <td>34020155</td>\n",
              "      <td>4.08</td>\n",
              "      <td>5.95</td>\n",
              "      <td>8.82</td>\n",
              "      <td>3.90</td>\n",
              "      <td>5.0</td>\n",
              "    </tr>\n",
              "  </tbody>\n",
              "</table>\n",
              "<p>1280 rows × 9 columns</p>\n",
              "</div>\n",
              "      <button class=\"colab-df-convert\" onclick=\"convertToInteractive('df-358f61c0-2717-4a6f-a32f-012f77faa1b6')\"\n",
              "              title=\"Convert this dataframe to an interactive table.\"\n",
              "              style=\"display:none;\">\n",
              "        \n",
              "  <svg xmlns=\"http://www.w3.org/2000/svg\" height=\"24px\"viewBox=\"0 0 24 24\"\n",
              "       width=\"24px\">\n",
              "    <path d=\"M0 0h24v24H0V0z\" fill=\"none\"/>\n",
              "    <path d=\"M18.56 5.44l.94 2.06.94-2.06 2.06-.94-2.06-.94-.94-2.06-.94 2.06-2.06.94zm-11 1L8.5 8.5l.94-2.06 2.06-.94-2.06-.94L8.5 2.5l-.94 2.06-2.06.94zm10 10l.94 2.06.94-2.06 2.06-.94-2.06-.94-.94-2.06-.94 2.06-2.06.94z\"/><path d=\"M17.41 7.96l-1.37-1.37c-.4-.4-.92-.59-1.43-.59-.52 0-1.04.2-1.43.59L10.3 9.45l-7.72 7.72c-.78.78-.78 2.05 0 2.83L4 21.41c.39.39.9.59 1.41.59.51 0 1.02-.2 1.41-.59l7.78-7.78 2.81-2.81c.8-.78.8-2.07 0-2.86zM5.41 20L4 18.59l7.72-7.72 1.47 1.35L5.41 20z\"/>\n",
              "  </svg>\n",
              "      </button>\n",
              "      \n",
              "  <style>\n",
              "    .colab-df-container {\n",
              "      display:flex;\n",
              "      flex-wrap:wrap;\n",
              "      gap: 12px;\n",
              "    }\n",
              "\n",
              "    .colab-df-convert {\n",
              "      background-color: #E8F0FE;\n",
              "      border: none;\n",
              "      border-radius: 50%;\n",
              "      cursor: pointer;\n",
              "      display: none;\n",
              "      fill: #1967D2;\n",
              "      height: 32px;\n",
              "      padding: 0 0 0 0;\n",
              "      width: 32px;\n",
              "    }\n",
              "\n",
              "    .colab-df-convert:hover {\n",
              "      background-color: #E2EBFA;\n",
              "      box-shadow: 0px 1px 2px rgba(60, 64, 67, 0.3), 0px 1px 3px 1px rgba(60, 64, 67, 0.15);\n",
              "      fill: #174EA6;\n",
              "    }\n",
              "\n",
              "    [theme=dark] .colab-df-convert {\n",
              "      background-color: #3B4455;\n",
              "      fill: #D2E3FC;\n",
              "    }\n",
              "\n",
              "    [theme=dark] .colab-df-convert:hover {\n",
              "      background-color: #434B5C;\n",
              "      box-shadow: 0px 1px 3px 1px rgba(0, 0, 0, 0.15);\n",
              "      filter: drop-shadow(0px 1px 2px rgba(0, 0, 0, 0.3));\n",
              "      fill: #FFFFFF;\n",
              "    }\n",
              "  </style>\n",
              "\n",
              "      <script>\n",
              "        const buttonEl =\n",
              "          document.querySelector('#df-358f61c0-2717-4a6f-a32f-012f77faa1b6 button.colab-df-convert');\n",
              "        buttonEl.style.display =\n",
              "          google.colab.kernel.accessAllowed ? 'block' : 'none';\n",
              "\n",
              "        async function convertToInteractive(key) {\n",
              "          const element = document.querySelector('#df-358f61c0-2717-4a6f-a32f-012f77faa1b6');\n",
              "          const dataTable =\n",
              "            await google.colab.kernel.invokeFunction('convertToInteractive',\n",
              "                                                     [key], {});\n",
              "          if (!dataTable) return;\n",
              "\n",
              "          const docLinkHtml = 'Like what you see? Visit the ' +\n",
              "            '<a target=\"_blank\" href=https://colab.research.google.com/notebooks/data_table.ipynb>data table notebook</a>'\n",
              "            + ' to learn more about interactive tables.';\n",
              "          element.innerHTML = '';\n",
              "          dataTable['output_type'] = 'display_data';\n",
              "          await google.colab.output.renderOutput(dataTable, element);\n",
              "          const docLink = document.createElement('div');\n",
              "          docLink.innerHTML = docLinkHtml;\n",
              "          element.appendChild(docLink);\n",
              "        }\n",
              "      </script>\n",
              "    </div>\n",
              "  </div>\n",
              "  "
            ]
          },
          "metadata": {},
          "execution_count": 7
        }
      ]
    },
    {
      "cell_type": "markdown",
      "source": [
        "**Import .dat files into array** "
      ],
      "metadata": {
        "id": "Gu_9RxjcFDOD"
      }
    },
    {
      "cell_type": "code",
      "source": [
        "for i in [1, 3, 4, 5, 6, 7, 8, 9, 10, 11]:\n",
        "  if i<10:\n",
        "      f = ['s0' + str(i) + '.dat']\n",
        "  else:\n",
        "    f = ['s' + str(i) + '.dat']\n",
        "  print(f)"
      ],
      "metadata": {
        "id": "Ny4WG-t-RM8i",
        "colab": {
          "base_uri": "https://localhost:8080/"
        },
        "outputId": "05c27e58-002b-41e4-ab5b-2109790efb99"
      },
      "execution_count": 13,
      "outputs": [
        {
          "output_type": "stream",
          "name": "stdout",
          "text": [
            "['s01.dat']\n",
            "['s03.dat']\n",
            "['s04.dat']\n",
            "['s05.dat']\n",
            "['s06.dat']\n",
            "['s07.dat']\n",
            "['s08.dat']\n",
            "['s09.dat']\n",
            "['s10.dat']\n",
            "['s11.dat']\n"
          ]
        }
      ]
    },
    {
      "cell_type": "markdown",
      "source": [
        "**Test:** first 10 subjects"
      ],
      "metadata": {
        "id": "-svzotk0BkfD"
      }
    },
    {
      "cell_type": "code",
      "source": [
        "fname = \"s01.dat\",\"s02.dat\", \"s03.dat\", \"s04.dat\", \"s05.dat\", \"s06.dat\", \"s07.dat\", \"s08.dat\", \"s09.dat\", \"s10.dat\"\n",
        "fname"
      ],
      "metadata": {
        "colab": {
          "base_uri": "https://localhost:8080/"
        },
        "id": "27ZnVhvBCPKQ",
        "outputId": "7137770b-cb6c-4afd-f37d-45e46fe5cee4"
      },
      "execution_count": 2,
      "outputs": [
        {
          "output_type": "execute_result",
          "data": {
            "text/plain": [
              "('s01.dat',\n",
              " 's02.dat',\n",
              " 's03.dat',\n",
              " 's04.dat',\n",
              " 's05.dat',\n",
              " 's06.dat',\n",
              " 's07.dat',\n",
              " 's08.dat',\n",
              " 's09.dat',\n",
              " 's10.dat')"
            ]
          },
          "metadata": {},
          "execution_count": 2
        }
      ]
    },
    {
      "cell_type": "code",
      "source": [
        "data = np.empty((10,40,40,8064))\n",
        "data[:] = np.nan\n",
        "data.shape"
      ],
      "metadata": {
        "colab": {
          "base_uri": "https://localhost:8080/"
        },
        "id": "qvkwAhgFDkzc",
        "outputId": "b3c278cb-c5b3-4fdf-cd9e-4f0de0ce452f"
      },
      "execution_count": null,
      "outputs": [
        {
          "output_type": "execute_result",
          "data": {
            "text/plain": [
              "(10, 40, 40, 8064)"
            ]
          },
          "metadata": {},
          "execution_count": 8
        }
      ]
    },
    {
      "cell_type": "code",
      "source": [
        "for i in np.arange(0, 10):\n",
        "  print(fname[i])\n",
        "  x = pickle.load(open(fname[i], \"rb\"), encoding=\"latin1\")\n",
        "  data[i] = x[\"data\"]                                    # shape is (40, 40, 8064) i.e., (trials, channels, samples)"
      ],
      "metadata": {
        "id": "_gAWNPd7M5W_",
        "colab": {
          "base_uri": "https://localhost:8080/"
        },
        "outputId": "3404f557-acad-4609-9a57-883b70f44def"
      },
      "execution_count": null,
      "outputs": [
        {
          "output_type": "stream",
          "name": "stdout",
          "text": [
            "s01.dat\n",
            "s03.dat\n",
            "s04.dat\n",
            "s05.dat\n",
            "s06.dat\n",
            "s07.dat\n",
            "s08.dat\n",
            "s09.dat\n",
            "s10.dat\n",
            "s11.dat\n"
          ]
        }
      ]
    },
    {
      "cell_type": "code",
      "source": [
        "s1_data = data[1,:,:,:] # trial,channel,sample"
      ],
      "metadata": {
        "id": "HbTd7vxx8PeJ"
      },
      "execution_count": null,
      "outputs": []
    },
    {
      "cell_type": "code",
      "source": [
        "f_sampling = 128\n",
        "time = np.linspace(-3, 60, 63 * f_sampling)\n",
        "time.shape"
      ],
      "metadata": {
        "id": "_LvM9aXr-NnN"
      },
      "execution_count": null,
      "outputs": []
    },
    {
      "cell_type": "code",
      "source": [
        "sub_data = s1_data[20, 15,: ]\n",
        "plt.plot(time,sub_data)"
      ],
      "metadata": {
        "id": "v2UVb8Ez_BAA"
      },
      "execution_count": null,
      "outputs": []
    },
    {
      "cell_type": "markdown",
      "source": [
        "# **CNN PART**"
      ],
      "metadata": {
        "id": "GU2qivaYocYA"
      }
    },
    {
      "cell_type": "markdown",
      "source": [
        "Check where you are, in which directory."
      ],
      "metadata": {
        "id": "Ii2ariCoDEMm"
      }
    },
    {
      "cell_type": "code",
      "source": [
        "# Print the current working directory\n",
        "print(\"Current working directory: {0}\".format(os.getcwd()))"
      ],
      "metadata": {
        "colab": {
          "base_uri": "https://localhost:8080/"
        },
        "id": "UxYor9JNfGn7",
        "outputId": "0dc486fc-9b3f-462d-a47e-8311cf3cf826"
      },
      "execution_count": 8,
      "outputs": [
        {
          "output_type": "stream",
          "name": "stdout",
          "text": [
            "Current working directory: /content/drive/MyDrive/Education/Course & Content/Neuromatch Academy - Computational Neuroscience/DEAP Project\n"
          ]
        }
      ]
    },
    {
      "cell_type": "code",
      "source": [
        "f = h5py.File('deap_data_all.mat','r')\n",
        "eeg = f.get('eeg_all')\n",
        "eeg = np.array(eeg) # For converting to a NumPy array\n",
        "val=f.get('valence_all')\n",
        "val=np.array(val)\n",
        "np.random.seed(1)"
      ],
      "metadata": {
        "id": "vnAbMg4EUzTg"
      },
      "execution_count": 9,
      "outputs": []
    },
    {
      "cell_type": "code",
      "source": [
        "model = models.Sequential()\n",
        "model.add(layers.Conv2D(32, (3, 3), activation='relu', input_shape=(8064, 32, 1)))\n",
        "model.add(layers.MaxPooling2D((2, 2)))\n",
        "model.add(layers.Conv2D(64, (3, 3), activation='relu'))\n",
        "model.add(layers.MaxPooling2D((2, 2)))\n",
        "model.add(layers.Conv2D(64, (3, 3), activation='relu'))"
      ],
      "metadata": {
        "id": "Fhk3BfStWkKr"
      },
      "execution_count": 10,
      "outputs": []
    },
    {
      "cell_type": "code",
      "source": [
        "model.summary()"
      ],
      "metadata": {
        "colab": {
          "base_uri": "https://localhost:8080/"
        },
        "id": "uX3u-WSGWupL",
        "outputId": "280a90e8-3cdb-4f5d-a5ad-dd45824e4224"
      },
      "execution_count": 11,
      "outputs": [
        {
          "output_type": "stream",
          "name": "stdout",
          "text": [
            "Model: \"sequential\"\n",
            "_________________________________________________________________\n",
            " Layer (type)                Output Shape              Param #   \n",
            "=================================================================\n",
            " conv2d (Conv2D)             (None, 8062, 30, 32)      320       \n",
            "                                                                 \n",
            " max_pooling2d (MaxPooling2D  (None, 4031, 15, 32)     0         \n",
            " )                                                               \n",
            "                                                                 \n",
            " conv2d_1 (Conv2D)           (None, 4029, 13, 64)      18496     \n",
            "                                                                 \n",
            " max_pooling2d_1 (MaxPooling  (None, 2014, 6, 64)      0         \n",
            " 2D)                                                             \n",
            "                                                                 \n",
            " conv2d_2 (Conv2D)           (None, 2012, 4, 64)       36928     \n",
            "                                                                 \n",
            "=================================================================\n",
            "Total params: 55,744\n",
            "Trainable params: 55,744\n",
            "Non-trainable params: 0\n",
            "_________________________________________________________________\n"
          ]
        }
      ]
    },
    {
      "cell_type": "code",
      "source": [
        "model.add(layers.Flatten())\n",
        "model.add(layers.Dense(64, activation='relu'))\n",
        "model.add(layers.Dense(2))"
      ],
      "metadata": {
        "id": "SmOBWmF_XGDe"
      },
      "execution_count": 14,
      "outputs": []
    },
    {
      "cell_type": "code",
      "source": [
        "model.summary()"
      ],
      "metadata": {
        "colab": {
          "base_uri": "https://localhost:8080/"
        },
        "id": "LFzU7Wp9XJZb",
        "outputId": "71ee59f3-aa49-4e04-b377-26c9a5ce389e"
      },
      "execution_count": 15,
      "outputs": [
        {
          "output_type": "stream",
          "name": "stdout",
          "text": [
            "Model: \"sequential\"\n",
            "_________________________________________________________________\n",
            " Layer (type)                Output Shape              Param #   \n",
            "=================================================================\n",
            " conv2d (Conv2D)             (None, 8062, 30, 32)      320       \n",
            "                                                                 \n",
            " max_pooling2d (MaxPooling2D  (None, 4031, 15, 32)     0         \n",
            " )                                                               \n",
            "                                                                 \n",
            " conv2d_1 (Conv2D)           (None, 4029, 13, 64)      18496     \n",
            "                                                                 \n",
            " max_pooling2d_1 (MaxPooling  (None, 2014, 6, 64)      0         \n",
            " 2D)                                                             \n",
            "                                                                 \n",
            " conv2d_2 (Conv2D)           (None, 2012, 4, 64)       36928     \n",
            "                                                                 \n",
            " flatten (Flatten)           (None, 515072)            0         \n",
            "                                                                 \n",
            " dense (Dense)               (None, 64)                32964672  \n",
            "                                                                 \n",
            " dense_1 (Dense)             (None, 2)                 130       \n",
            "                                                                 \n",
            "=================================================================\n",
            "Total params: 33,020,546\n",
            "Trainable params: 33,020,546\n",
            "Non-trainable params: 0\n",
            "_________________________________________________________________\n"
          ]
        }
      ]
    },
    {
      "cell_type": "code",
      "source": [
        "class_names = ['low_val','high_val']\n",
        "val=np.where(val > 4.5, 1, 0)"
      ],
      "metadata": {
        "id": "ELvnNi4ZeHwV"
      },
      "execution_count": 16,
      "outputs": []
    },
    {
      "cell_type": "code",
      "source": [
        "ind=np.arange(0,1280,1)\n",
        "test_ind=np.random.choice(ind,size=256, replace=False)\n",
        "eeg.shape"
      ],
      "metadata": {
        "id": "LbYa6bh3_o6-",
        "colab": {
          "base_uri": "https://localhost:8080/"
        },
        "outputId": "6f023827-37ed-4b1b-8f6e-8d604eb7595a"
      },
      "execution_count": 17,
      "outputs": [
        {
          "output_type": "execute_result",
          "data": {
            "text/plain": [
              "(8064, 32, 1280)"
            ]
          },
          "metadata": {},
          "execution_count": 17
        }
      ]
    },
    {
      "cell_type": "code",
      "source": [
        "eeg_t=np.transpose(eeg,(2,0,1))\n",
        "eeg_t.shape\n",
        "\n",
        "val_t=np.transpose(val,(1,0))\n",
        "val_t.shape"
      ],
      "metadata": {
        "colab": {
          "base_uri": "https://localhost:8080/"
        },
        "id": "3doDfNaoLSaO",
        "outputId": "d5d3d25c-09a1-4e11-ee93-5732ece4226a"
      },
      "execution_count": 19,
      "outputs": [
        {
          "output_type": "execute_result",
          "data": {
            "text/plain": [
              "(1280, 1)"
            ]
          },
          "metadata": {},
          "execution_count": 19
        }
      ]
    },
    {
      "cell_type": "code",
      "source": [
        "test_eeg = eeg_t[test_ind,:,:]\n",
        "test_eeg.shape\n",
        "\n",
        "test_val=val_t[test_ind,:]\n",
        "test_val.shape"
      ],
      "metadata": {
        "id": "hGIIEpCCBuwl",
        "colab": {
          "base_uri": "https://localhost:8080/"
        },
        "outputId": "21794eee-574e-466b-83bf-d9f979545699"
      },
      "execution_count": 21,
      "outputs": [
        {
          "output_type": "execute_result",
          "data": {
            "text/plain": [
              "(256, 1)"
            ]
          },
          "metadata": {},
          "execution_count": 21
        }
      ]
    },
    {
      "cell_type": "code",
      "source": [
        "train_ind=np.setdiff1d(ind,test_ind)\n",
        "train_ind.shape\n",
        "\n",
        "train_eeg = eeg_t[train_ind,:,:]\n",
        "train_eeg.shape\n",
        "\n",
        "train_val = val_t[train_ind,:]\n",
        "train_val.shape"
      ],
      "metadata": {
        "colab": {
          "base_uri": "https://localhost:8080/"
        },
        "id": "212WS-JFFQUP",
        "outputId": "8b177dae-b4a7-4cf8-cc12-f8036bf0b8ce"
      },
      "execution_count": 22,
      "outputs": [
        {
          "output_type": "execute_result",
          "data": {
            "text/plain": [
              "(1024, 1)"
            ]
          },
          "metadata": {},
          "execution_count": 22
        }
      ]
    },
    {
      "cell_type": "code",
      "source": [
        "model.compile(optimizer='adam',\n",
        "              loss=tf.keras.losses.SparseCategoricalCrossentropy(from_logits=True),\n",
        "              metrics=['accuracy'])\n",
        "\n",
        "history = model.fit(train_eeg, train_val, epochs=10, \n",
        "                    validation_data=(test_eeg, test_val))"
      ],
      "metadata": {
        "colab": {
          "base_uri": "https://localhost:8080/"
        },
        "id": "XECXrof4QEIC",
        "outputId": "f57f362d-fe06-474c-d77a-17cfbfab0224"
      },
      "execution_count": null,
      "outputs": [
        {
          "output_type": "stream",
          "name": "stdout",
          "text": [
            "Epoch 1/10\n",
            "32/32 [==============================] - 329s 10s/step - loss: 103.6765 - accuracy: 0.5557 - val_loss: 0.6894 - val_accuracy: 0.6172\n",
            "Epoch 2/10\n",
            "32/32 [==============================] - 330s 10s/step - loss: 0.6773 - accuracy: 0.6494 - val_loss: 0.6807 - val_accuracy: 0.6172\n",
            "Epoch 3/10\n",
            "32/32 [==============================] - 322s 10s/step - loss: 0.6402 - accuracy: 0.6611 - val_loss: 0.6836 - val_accuracy: 0.6055\n",
            "Epoch 4/10\n",
            "32/32 [==============================] - ETA: 0s - loss: 0.5693 - accuracy: 0.7158"
          ]
        }
      ]
    },
    {
      "cell_type": "code",
      "source": [
        "plt.plot(history.history['accuracy'], label='accuracy')\n",
        "plt.plot(history.history['val_accuracy'], label = 'val_accuracy')\n",
        "plt.xlabel('Epoch')\n",
        "plt.ylabel('Accuracy')\n",
        "plt.ylim([0.5, 1])\n",
        "plt.legend(loc='lower right')\n",
        "\n",
        "test_loss, test_acc = model.evaluate(test_eeg,  test_val, verbose=2)"
      ],
      "metadata": {
        "id": "P5lSWGa-RM_6"
      },
      "execution_count": null,
      "outputs": []
    },
    {
      "cell_type": "code",
      "source": [
        "print(test_acc)"
      ],
      "metadata": {
        "id": "568bqDU7RQ6x"
      },
      "execution_count": null,
      "outputs": []
    }
  ]
}